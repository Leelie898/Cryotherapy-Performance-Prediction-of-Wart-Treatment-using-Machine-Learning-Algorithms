{
 "cells": [
  {
   "cell_type": "code",
   "execution_count": 2,
   "id": "f884d430",
   "metadata": {
    "id": "f884d430"
   },
   "outputs": [],
   "source": [
    "# Libraries to help with reading and manipulating data\n",
    "import pandas as pd\n",
    "import numpy as np\n",
    "\n",
    "# Libaries to help with data visualization\n",
    "import matplotlib.pyplot as plt\n",
    "import seaborn as sns\n",
    "# To tune model, get different metric scores, and split data\n",
    "from sklearn.metrics import (\n",
    "    f1_score,\n",
    "    accuracy_score,\n",
    "    recall_score,\n",
    "    precision_score,\n",
    "    confusion_matrix,\n",
    "    roc_auc_score,\n",
    "    plot_confusion_matrix,\n",
    "    classification_report,\n",
    "    precision_recall_curve\n",
    ")\n",
    "from sklearn import metrics\n",
    "\n",
    "from sklearn.model_selection import train_test_split\n",
    "# To be used for data scaling and one hot encoding\n",
    "from sklearn.preprocessing import StandardScaler, MinMaxScaler\n",
    "# Algorithms to use\n",
    "from sklearn.svm import SVC\n",
    "import tensorflow as tf\n",
    "from tensorflow.keras.models import Sequential\n",
    "from tensorflow.keras.layers import Dense, Dropout, Activation\n",
    "\n",
    "# To supress warnings\n",
    "import warnings\n",
    "warnings.filterwarnings(\"ignore\")\n"
   ]
  },
  {
   "cell_type": "code",
   "execution_count": 3,
   "id": "3735dfcc",
   "metadata": {
    "id": "3735dfcc"
   },
   "outputs": [],
   "source": [
    "# loading dataset\n",
    "dataset = pd.read_csv('MLDM Task1 Cryotherapy.csv')"
   ]
  },
  {
   "cell_type": "code",
   "execution_count": 4,
   "id": "331be040",
   "metadata": {
    "colab": {
     "base_uri": "https://localhost:8080/"
    },
    "id": "331be040",
    "outputId": "93c0309a-8900-4d7e-faaa-01465fec03ae"
   },
   "outputs": [
    {
     "data": {
      "text/plain": [
       "(90, 7)"
      ]
     },
     "execution_count": 4,
     "metadata": {},
     "output_type": "execute_result"
    }
   ],
   "source": [
    "# Checking the number of rows and columns in the data\n",
    "dataset.shape"
   ]
  },
  {
   "cell_type": "markdown",
   "id": "629415f8",
   "metadata": {
    "id": "629415f8"
   },
   "source": [
    "**Observations:**\n",
    "* There are **90 observations and 7 columns** in the dataset."
   ]
  },
  {
   "cell_type": "markdown",
   "id": "476ee599",
   "metadata": {
    "id": "476ee599"
   },
   "source": [
    "### **Data Overview**"
   ]
  },
  {
   "cell_type": "code",
   "execution_count": 5,
   "id": "908b8336",
   "metadata": {
    "colab": {
     "base_uri": "https://localhost:8080/",
     "height": 206
    },
    "id": "908b8336",
    "outputId": "0d7a2e92-8565-4a46-feab-c64db18190c3"
   },
   "outputs": [
    {
     "data": {
      "text/html": [
       "<div>\n",
       "<style scoped>\n",
       "    .dataframe tbody tr th:only-of-type {\n",
       "        vertical-align: middle;\n",
       "    }\n",
       "\n",
       "    .dataframe tbody tr th {\n",
       "        vertical-align: top;\n",
       "    }\n",
       "\n",
       "    .dataframe thead th {\n",
       "        text-align: right;\n",
       "    }\n",
       "</style>\n",
       "<table border=\"1\" class=\"dataframe\">\n",
       "  <thead>\n",
       "    <tr style=\"text-align: right;\">\n",
       "      <th></th>\n",
       "      <th>sex</th>\n",
       "      <th>age</th>\n",
       "      <th>Time</th>\n",
       "      <th>Number_of_Warts</th>\n",
       "      <th>Type</th>\n",
       "      <th>Area</th>\n",
       "      <th>Result_of_Treatment</th>\n",
       "    </tr>\n",
       "  </thead>\n",
       "  <tbody>\n",
       "    <tr>\n",
       "      <th>0</th>\n",
       "      <td>1</td>\n",
       "      <td>35</td>\n",
       "      <td>12.00</td>\n",
       "      <td>5</td>\n",
       "      <td>1</td>\n",
       "      <td>100</td>\n",
       "      <td>0</td>\n",
       "    </tr>\n",
       "    <tr>\n",
       "      <th>1</th>\n",
       "      <td>1</td>\n",
       "      <td>29</td>\n",
       "      <td>7.00</td>\n",
       "      <td>5</td>\n",
       "      <td>1</td>\n",
       "      <td>96</td>\n",
       "      <td>1</td>\n",
       "    </tr>\n",
       "    <tr>\n",
       "      <th>2</th>\n",
       "      <td>1</td>\n",
       "      <td>50</td>\n",
       "      <td>8.00</td>\n",
       "      <td>1</td>\n",
       "      <td>3</td>\n",
       "      <td>132</td>\n",
       "      <td>0</td>\n",
       "    </tr>\n",
       "    <tr>\n",
       "      <th>3</th>\n",
       "      <td>1</td>\n",
       "      <td>32</td>\n",
       "      <td>11.75</td>\n",
       "      <td>7</td>\n",
       "      <td>3</td>\n",
       "      <td>750</td>\n",
       "      <td>0</td>\n",
       "    </tr>\n",
       "    <tr>\n",
       "      <th>4</th>\n",
       "      <td>1</td>\n",
       "      <td>67</td>\n",
       "      <td>9.25</td>\n",
       "      <td>1</td>\n",
       "      <td>1</td>\n",
       "      <td>42</td>\n",
       "      <td>0</td>\n",
       "    </tr>\n",
       "  </tbody>\n",
       "</table>\n",
       "</div>"
      ],
      "text/plain": [
       "   sex  age   Time  Number_of_Warts  Type  Area  Result_of_Treatment\n",
       "0    1   35  12.00                5     1   100                    0\n",
       "1    1   29   7.00                5     1    96                    1\n",
       "2    1   50   8.00                1     3   132                    0\n",
       "3    1   32  11.75                7     3   750                    0\n",
       "4    1   67   9.25                1     1    42                    0"
      ]
     },
     "execution_count": 5,
     "metadata": {},
     "output_type": "execute_result"
    }
   ],
   "source": [
    "# Let's view the first 5 rows of the data\n",
    "dataset.head()"
   ]
  },
  {
   "cell_type": "code",
   "execution_count": 6,
   "id": "a5bd8494",
   "metadata": {
    "colab": {
     "base_uri": "https://localhost:8080/"
    },
    "id": "a5bd8494",
    "outputId": "b52b2c02-5ece-4b51-d3f5-8b0fcff4543c"
   },
   "outputs": [
    {
     "name": "stdout",
     "output_type": "stream",
     "text": [
      "<class 'pandas.core.frame.DataFrame'>\n",
      "RangeIndex: 90 entries, 0 to 89\n",
      "Data columns (total 7 columns):\n",
      " #   Column               Non-Null Count  Dtype  \n",
      "---  ------               --------------  -----  \n",
      " 0   sex                  90 non-null     int64  \n",
      " 1   age                  90 non-null     int64  \n",
      " 2   Time                 90 non-null     float64\n",
      " 3   Number_of_Warts      90 non-null     int64  \n",
      " 4   Type                 90 non-null     int64  \n",
      " 5   Area                 90 non-null     int64  \n",
      " 6   Result_of_Treatment  90 non-null     int64  \n",
      "dtypes: float64(1), int64(6)\n",
      "memory usage: 5.0 KB\n"
     ]
    }
   ],
   "source": [
    "# Let's check the data types of the columns in the dataset\n",
    "dataset.info()"
   ]
  },
  {
   "cell_type": "code",
   "execution_count": null,
   "id": "e9237205",
   "metadata": {
    "id": "e9237205"
   },
   "outputs": [],
   "source": []
  },
  {
   "cell_type": "markdown",
   "id": "fe2bb233",
   "metadata": {
    "id": "fe2bb233"
   },
   "source": [
    "**Observations:**\n",
    "* There are no missing values in the dataset.\n",
    "* All columns are of numerical values, 6 are type integer and 1 of type float.\n",
    "* sex, Type and Result_of_Treatment have numerical values, however they are norminal signifying categories"
   ]
  },
  {
   "cell_type": "code",
   "execution_count": 7,
   "id": "255d6e6a",
   "metadata": {
    "id": "255d6e6a"
   },
   "outputs": [],
   "source": [
    "cartegorical_columns=['sex','Type','Result_of_Treatment']\n",
    "numerical_columns=['age','Time','Number_of_Warts','Area']"
   ]
  },
  {
   "cell_type": "markdown",
   "id": "103f11a4",
   "metadata": {
    "id": "103f11a4"
   },
   "source": [
    "### **Descriptive overview of numerical columns**"
   ]
  },
  {
   "cell_type": "code",
   "execution_count": 8,
   "id": "814fe212",
   "metadata": {
    "colab": {
     "base_uri": "https://localhost:8080/",
     "height": 175
    },
    "id": "814fe212",
    "outputId": "079766a5-eb72-432f-c9ed-fec3041d2f97"
   },
   "outputs": [
    {
     "data": {
      "text/html": [
       "<div>\n",
       "<style scoped>\n",
       "    .dataframe tbody tr th:only-of-type {\n",
       "        vertical-align: middle;\n",
       "    }\n",
       "\n",
       "    .dataframe tbody tr th {\n",
       "        vertical-align: top;\n",
       "    }\n",
       "\n",
       "    .dataframe thead th {\n",
       "        text-align: right;\n",
       "    }\n",
       "</style>\n",
       "<table border=\"1\" class=\"dataframe\">\n",
       "  <thead>\n",
       "    <tr style=\"text-align: right;\">\n",
       "      <th></th>\n",
       "      <th>count</th>\n",
       "      <th>mean</th>\n",
       "      <th>std</th>\n",
       "      <th>min</th>\n",
       "      <th>25%</th>\n",
       "      <th>50%</th>\n",
       "      <th>75%</th>\n",
       "      <th>max</th>\n",
       "    </tr>\n",
       "  </thead>\n",
       "  <tbody>\n",
       "    <tr>\n",
       "      <th>age</th>\n",
       "      <td>90.0</td>\n",
       "      <td>28.600000</td>\n",
       "      <td>13.360852</td>\n",
       "      <td>15.00</td>\n",
       "      <td>18.0000</td>\n",
       "      <td>25.5</td>\n",
       "      <td>35.0000</td>\n",
       "      <td>67.0</td>\n",
       "    </tr>\n",
       "    <tr>\n",
       "      <th>Time</th>\n",
       "      <td>90.0</td>\n",
       "      <td>7.666667</td>\n",
       "      <td>3.406661</td>\n",
       "      <td>0.25</td>\n",
       "      <td>4.5625</td>\n",
       "      <td>8.5</td>\n",
       "      <td>10.6875</td>\n",
       "      <td>12.0</td>\n",
       "    </tr>\n",
       "    <tr>\n",
       "      <th>Number_of_Warts</th>\n",
       "      <td>90.0</td>\n",
       "      <td>5.511111</td>\n",
       "      <td>3.567155</td>\n",
       "      <td>1.00</td>\n",
       "      <td>2.0000</td>\n",
       "      <td>5.0</td>\n",
       "      <td>8.0000</td>\n",
       "      <td>12.0</td>\n",
       "    </tr>\n",
       "    <tr>\n",
       "      <th>Area</th>\n",
       "      <td>90.0</td>\n",
       "      <td>85.833333</td>\n",
       "      <td>131.733153</td>\n",
       "      <td>4.00</td>\n",
       "      <td>20.0000</td>\n",
       "      <td>70.0</td>\n",
       "      <td>100.0000</td>\n",
       "      <td>750.0</td>\n",
       "    </tr>\n",
       "  </tbody>\n",
       "</table>\n",
       "</div>"
      ],
      "text/plain": [
       "                 count       mean         std    min      25%   50%       75%  \\\n",
       "age               90.0  28.600000   13.360852  15.00  18.0000  25.5   35.0000   \n",
       "Time              90.0   7.666667    3.406661   0.25   4.5625   8.5   10.6875   \n",
       "Number_of_Warts   90.0   5.511111    3.567155   1.00   2.0000   5.0    8.0000   \n",
       "Area              90.0  85.833333  131.733153   4.00  20.0000  70.0  100.0000   \n",
       "\n",
       "                   max  \n",
       "age               67.0  \n",
       "Time              12.0  \n",
       "Number_of_Warts   12.0  \n",
       "Area             750.0  "
      ]
     },
     "execution_count": 8,
     "metadata": {},
     "output_type": "execute_result"
    }
   ],
   "source": [
    "dataset[numerical_columns].describe().T"
   ]
  },
  {
   "cell_type": "markdown",
   "id": "21367fc9",
   "metadata": {
    "id": "21367fc9"
   },
   "source": [
    "**Observations:**\n",
    "* **age:** Average age is 28 years and it has a wide range from 15 to 67 years.\n",
    "* **Time:** the average time is 7 hours it has a  range with a minimum of quarter hour and a maximum of 12 hours.\n",
    "* **Number_of_Warts:** Average Number_of_Warts is 5 it has a  range with a minimum of 1 and a maximum of 12.\n",
    "* **Area:** Average Area is 85 it has a wide range from 4 to 750 years"
   ]
  },
  {
   "cell_type": "markdown",
   "id": "4594917b",
   "metadata": {
    "id": "4594917b"
   },
   "source": [
    "### **Descriptive overview  for categorical variables**"
   ]
  },
  {
   "cell_type": "code",
   "execution_count": 9,
   "id": "49f1eef6",
   "metadata": {
    "colab": {
     "base_uri": "https://localhost:8080/"
    },
    "id": "49f1eef6",
    "outputId": "f2ecf752-6d27-49ef-a2c9-98e3330bef67"
   },
   "outputs": [
    {
     "name": "stdout",
     "output_type": "stream",
     "text": [
      "Cartegory value counts for: sex\n",
      "1    47\n",
      "2    43\n",
      "Name: sex, dtype: int64\n",
      "Cartegory value counts for: Type\n",
      "1    54\n",
      "3    27\n",
      "2     9\n",
      "Name: Type, dtype: int64\n",
      "Cartegory value counts for: Result_of_Treatment\n",
      "1    48\n",
      "0    42\n",
      "Name: Result_of_Treatment, dtype: int64\n"
     ]
    }
   ],
   "source": [
    "for i in cartegorical_columns:\n",
    "    cartegory_value_count = dataset[i].value_counts()\n",
    "    print(f'Cartegory value counts for: {i}')\n",
    "    print(cartegory_value_count)"
   ]
  },
  {
   "cell_type": "markdown",
   "id": "9de98092",
   "metadata": {
    "id": "9de98092"
   },
   "source": [
    "**Observations:**\n",
    "* **sex:** sex has 47 observation in 1 cartegory, 43 observation in 2 cartegory.\n",
    "* **Type:** Type has 54 observation in 1 cartegory, 9 observation in 2 cartegory,and 27 observation in 3 cartegory\n",
    "* **Result_of_Treatment:** Result_of_Treatment has 48 observation in 1 cartegory, 42 observation in 2 cartegory"
   ]
  },
  {
   "cell_type": "markdown",
   "id": "22a24c9b",
   "metadata": {
    "id": "22a24c9b"
   },
   "source": [
    "## **Exploratory Data Analysis**\n",
    "#### **Univariate analysis**\n",
    "Let's explore these variables in some more depth by observing their distributions"
   ]
  },
  {
   "cell_type": "markdown",
   "id": "77b0f386",
   "metadata": {
    "id": "77b0f386"
   },
   "source": [
    "## Numerical "
   ]
  },
  {
   "cell_type": "markdown",
   "id": "014f3edf",
   "metadata": {
    "id": "014f3edf"
   },
   "source": [
    "#### **age:**"
   ]
  },
  {
   "cell_type": "code",
   "execution_count": 10,
   "id": "2661b402",
   "metadata": {
    "colab": {
     "base_uri": "https://localhost:8080/",
     "height": 285
    },
    "id": "2661b402",
    "outputId": "5f491de7-844f-4d4b-9d9b-5ac468aab148"
   },
   "outputs": [
    {
     "data": {
      "image/png": "[encoded data removed]",
      "text/plain": [
       "<Figure size 432x288 with 2 Axes>"
      ]
     },
     "metadata": {
      "needs_background": "light"
     },
     "output_type": "display_data"
    }
   ],
   "source": [
    "# Cut the window in 2 parts\n",
    "f, (ax_box, ax_hist) = plt.subplots(2, sharex=True, gridspec_kw={\"height_ratios\": (.15, .85)})\n",
    "sns.set(style=\"darkgrid\")\n",
    "\n",
    "# Add a graph in each part\n",
    "sns.boxplot(dataset[\"age\"], ax=ax_box)\n",
    "sns.distplot(dataset[\"age\"], ax=ax_hist)\n",
    "ax_box.set(xlabel='age')\n",
    "plt.show()"
   ]
  },
  {
   "cell_type": "markdown",
   "id": "47f829eb",
   "metadata": {
    "id": "47f829eb"
   },
   "source": [
    "**Observations:**\n",
    "* The distribution of age is skewed to the right.\n",
    "* From the boxplot, it contains some outliers."
   ]
  },
  {
   "cell_type": "markdown",
   "id": "d1a9b44e",
   "metadata": {
    "id": "d1a9b44e"
   },
   "source": [
    "#### **Time:**"
   ]
  },
  {
   "cell_type": "code",
   "execution_count": 11,
   "id": "3d1bbb1a",
   "metadata": {
    "colab": {
     "base_uri": "https://localhost:8080/",
     "height": 285
    },
    "id": "3d1bbb1a",
    "outputId": "17dc63a9-54df-4995-a81d-14073e7002cd"
   },
   "outputs": [
    {
     "data": {
      "image/png": "[encoded data removed]",
      "text/plain": [
       "<Figure size 432x288 with 2 Axes>"
      ]
     },
     "metadata": {},
     "output_type": "display_data"
    }
   ],
   "source": [
    "# Cut the window in 2 parts\n",
    "f, (ax_box, ax_hist) = plt.subplots(2, sharex=True, gridspec_kw={\"height_ratios\": (.15, .85)})\n",
    "sns.set(style=\"darkgrid\")\n",
    "\n",
    "# Add a graph in each part\n",
    "sns.boxplot(dataset[\"Time\"], ax=ax_box)\n",
    "sns.distplot(dataset[\"Time\"], ax=ax_hist)\n",
    "ax_box.set(xlabel='Time')\n",
    "plt.show()"
   ]
  },
  {
   "cell_type": "markdown",
   "id": "b7c840fd",
   "metadata": {
    "id": "b7c840fd"
   },
   "source": [
    "**Observations:**\n",
    "* The distribution of Time is slightly skewed to the left.\n",
    "* From the boxplot, it contains no outliers."
   ]
  },
  {
   "cell_type": "markdown",
   "id": "8d03b464",
   "metadata": {
    "id": "8d03b464"
   },
   "source": [
    "#### **Number_of_Warts:**"
   ]
  },
  {
   "cell_type": "code",
   "execution_count": 12,
   "id": "e8fb459e",
   "metadata": {
    "colab": {
     "base_uri": "https://localhost:8080/",
     "height": 285
    },
    "id": "e8fb459e",
    "outputId": "12031f9f-c227-4f7f-a153-cd53598ceff7"
   },
   "outputs": [
    {
     "data": {
      "image/png": "[encoded data removed]",
      "text/plain": [
       "<Figure size 432x288 with 2 Axes>"
      ]
     },
     "metadata": {},
     "output_type": "display_data"
    }
   ],
   "source": [
    "# Cut the window in 2 parts\n",
    "f, (ax_box, ax_hist) = plt.subplots(2, sharex=True, gridspec_kw={\"height_ratios\": (.15, .85)})\n",
    "sns.set(style=\"darkgrid\")\n",
    "\n",
    "# Add a graph in each part\n",
    "sns.boxplot(dataset[\"Number_of_Warts\"], ax=ax_box)\n",
    "sns.distplot(dataset[\"Number_of_Warts\"], ax=ax_hist)\n",
    "ax_box.set(xlabel='Number_of_Warts')\n",
    "plt.show()"
   ]
  },
  {
   "cell_type": "markdown",
   "id": "60d9e6c7",
   "metadata": {
    "id": "60d9e6c7"
   },
   "source": [
    "**Observations:**\n",
    "* The distribution of Number_of_Warts is slightly skewed to the right.\n",
    "* From the boxplot, it contains no outliers."
   ]
  },
  {
   "cell_type": "markdown",
   "id": "a9647b92",
   "metadata": {
    "id": "a9647b92"
   },
   "source": [
    "#### **Area:**"
   ]
  },
  {
   "cell_type": "code",
   "execution_count": 13,
   "id": "ad626f18",
   "metadata": {
    "colab": {
     "base_uri": "https://localhost:8080/",
     "height": 285
    },
    "id": "ad626f18",
    "outputId": "bd72ffff-a4e5-41f0-e554-4e15b34b8407"
   },
   "outputs": [
    {
     "data": {
      "image/png": "[encoded data removed]",
      "text/plain": [
       "<Figure size 432x288 with 2 Axes>"
      ]
     },
     "metadata": {},
     "output_type": "display_data"
    }
   ],
   "source": [
    "# Cut the window in 2 parts\n",
    "f, (ax_box, ax_hist) = plt.subplots(2, sharex=True, gridspec_kw={\"height_ratios\": (.15, .85)})\n",
    "sns.set(style=\"darkgrid\")\n",
    "\n",
    "# Add a graph in each part\n",
    "sns.boxplot(dataset[\"Area\"], ax=ax_box)\n",
    "sns.distplot(dataset[\"Area\"], ax=ax_hist)\n",
    "ax_box.set(xlabel='Area')\n",
    "plt.show()"
   ]
  },
  {
   "cell_type": "markdown",
   "id": "361db8c6",
   "metadata": {
    "id": "361db8c6"
   },
   "source": [
    "**Observations:**\n",
    "* Area is normally distributed but slightly skewed to the right.\n",
    "* From the boxplot, it contains large outliers value."
   ]
  },
  {
   "cell_type": "markdown",
   "id": "42f43f8a",
   "metadata": {
    "id": "42f43f8a"
   },
   "source": [
    "## Cartegorical (Norminal)"
   ]
  },
  {
   "cell_type": "markdown",
   "id": "25be417f",
   "metadata": {
    "id": "25be417f"
   },
   "source": [
    "### sex:"
   ]
  },
  {
   "cell_type": "code",
   "execution_count": 14,
   "id": "9ab63243",
   "metadata": {
    "colab": {
     "base_uri": "https://localhost:8080/",
     "height": 298
    },
    "id": "9ab63243",
    "outputId": "fc86f605-1e29-4f0b-d507-7195fb1d0488"
   },
   "outputs": [
    {
     "data": {
      "image/png": "[encoded data removed]",
      "text/plain": [
       "<Figure size 432x288 with 1 Axes>"
      ]
     },
     "metadata": {},
     "output_type": "display_data"
    }
   ],
   "source": [
    "ax=sns.countplot(x=dataset['sex'])\n",
    "ax.bar_label(ax.containers[0])\n",
    "plt.title('sex  Distribution')\n",
    "plt.xlabel('sex')\n",
    "plt.ylabel('sex Count')\n",
    "plt.xticks(rotation = 90);\n",
    "plt.show()"
   ]
  },
  {
   "cell_type": "code",
   "execution_count": 15,
   "id": "0f48c358",
   "metadata": {
    "id": "0f48c358"
   },
   "outputs": [],
   "source": [
    "### Type:"
   ]
  },
  {
   "cell_type": "code",
   "execution_count": 16,
   "id": "a1086252",
   "metadata": {
    "colab": {
     "base_uri": "https://localhost:8080/",
     "height": 298
    },
    "id": "a1086252",
    "outputId": "460e39a8-ed3f-4fb5-b65f-98c1043d3d09"
   },
   "outputs": [
    {
     "data": {
      "image/png": "[encoded data removed]",
      "text/plain": [
       "<Figure size 432x288 with 1 Axes>"
      ]
     },
     "metadata": {},
     "output_type": "display_data"
    }
   ],
   "source": [
    "ax=sns.countplot(x=dataset['Type'])\n",
    "ax.bar_label(ax.containers[0])\n",
    "plt.title('Type  Distribution')\n",
    "plt.xlabel('Type')\n",
    "plt.ylabel('Type Count')\n",
    "plt.xticks(rotation = 90);\n",
    "plt.show()"
   ]
  },
  {
   "cell_type": "code",
   "execution_count": 17,
   "id": "cd1078a0",
   "metadata": {
    "id": "cd1078a0"
   },
   "outputs": [],
   "source": [
    "### Result_of_Treatment:"
   ]
  },
  {
   "cell_type": "code",
   "execution_count": 18,
   "id": "844bde1d",
   "metadata": {
    "colab": {
     "base_uri": "https://localhost:8080/",
     "height": 298
    },
    "id": "844bde1d",
    "outputId": "74858cbc-3b71-42fb-862c-7fc153ef2def"
   },
   "outputs": [
    {
     "data": {
      "image/png": "[encoded data removed]",
      "text/plain": [
       "<Figure size 432x288 with 1 Axes>"
      ]
     },
     "metadata": {},
     "output_type": "display_data"
    }
   ],
   "source": [
    "ax=sns.countplot(x=dataset['Result_of_Treatment'])\n",
    "ax.bar_label(ax.containers[0])\n",
    "plt.title('Result_of_Treatment  Distribution')\n",
    "plt.xlabel('Result_of_Treatment')\n",
    "plt.ylabel('Result_of_Treatment Count')\n",
    "plt.xticks(rotation = 90);\n",
    "plt.show()"
   ]
  },
  {
   "cell_type": "markdown",
   "id": "1dbcac71",
   "metadata": {
    "id": "1dbcac71"
   },
   "source": [
    "## **Bivariate Analysis**"
   ]
  },
  {
   "cell_type": "code",
   "execution_count": 19,
   "id": "abcf3a6f",
   "metadata": {
    "colab": {
     "base_uri": "https://localhost:8080/",
     "height": 436
    },
    "id": "abcf3a6f",
    "outputId": "5ae0d6aa-723d-4df9-eeaf-b922318649da"
   },
   "outputs": [
    {
     "data": {
      "image/png": "[encoded data removed]",
      "text/plain": [
       "<Figure size 1080x504 with 2 Axes>"
      ]
     },
     "metadata": {},
     "output_type": "display_data"
    }
   ],
   "source": [
    "plt.figure(figsize=(15, 7))\n",
    "sns.heatmap(dataset.corr(), annot=True, vmin=-1, vmax=1, fmt=\".2f\", cmap=\"Spectral\")\n",
    "plt.show()"
   ]
  },
  {
   "cell_type": "markdown",
   "id": "20e4db84",
   "metadata": {
    "id": "20e4db84"
   },
   "source": [
    "**Observations:**\n",
    "* **Result_of_Treatment** shows a bit of a negative correlation with **sex, \tage, Time, Type** and **Area** .\n",
    "* There's a strong positive correlation between **age** and **Type**, **Area** and **Type**.\n"
   ]
  },
  {
   "cell_type": "markdown",
   "id": "7201ab59",
   "metadata": {
    "id": "7201ab59"
   },
   "source": [
    "## **Separate the independent variables (X) and the dependent variable (Y)**"
   ]
  },
  {
   "cell_type": "code",
   "execution_count": 20,
   "id": "f4e3c9f6",
   "metadata": {
    "id": "f4e3c9f6"
   },
   "outputs": [],
   "source": [
    "X = dataset.drop([\"Result_of_Treatment\"], axis=1)\n",
    "y = dataset[\"Result_of_Treatment\"]"
   ]
  },
  {
   "cell_type": "markdown",
   "id": "e7a98f98",
   "metadata": {
    "id": "e7a98f98"
   },
   "source": [
    "## Feature Scaling "
   ]
  },
  {
   "cell_type": "code",
   "execution_count": 21,
   "id": "ec1b847c",
   "metadata": {
    "id": "ec1b847c"
   },
   "outputs": [],
   "source": [
    "\n",
    "scaler=MinMaxScaler()\n",
    "X=pd.DataFrame(scaler.fit_transform(X), columns=X.columns.tolist())"
   ]
  },
  {
   "cell_type": "markdown",
   "id": "bf05b420",
   "metadata": {
    "id": "bf05b420"
   },
   "source": [
    "**Splitting the data into 80% train and 20% test set**"
   ]
  },
  {
   "cell_type": "code",
   "execution_count": 22,
   "id": "53aa68f6",
   "metadata": {
    "id": "53aa68f6"
   },
   "outputs": [],
   "source": [
    "X_train, X_test, y_train, y_test = train_test_split(X, y, test_size = 0.2, random_state = 1,stratify=y)"
   ]
  },
  {
   "cell_type": "code",
   "execution_count": 23,
   "id": "cec9cc05",
   "metadata": {
    "id": "cec9cc05"
   },
   "outputs": [],
   "source": [
    "# Creating metric function \n",
    "\n",
    "def metrics_score(actual, predicted):\n",
    "    print(classification_report(actual, predicted))\n",
    "    cm = confusion_matrix(actual, predicted)\n",
    "    plt.figure(figsize=(8,5))\n",
    "    sns.heatmap(cm, annot=True,  fmt='.2f', xticklabels=['0', '1'], yticklabels=['0', '1'])\n",
    "    plt.ylabel('Actual')\n",
    "    plt.xlabel('Predicted')\n",
    "    plt.show()"
   ]
  },
  {
   "cell_type": "markdown",
   "id": "555234f2",
   "metadata": {
    "id": "555234f2"
   },
   "source": [
    "## **Building the models**\n",
    "\n",
    "Building 2 different models:\n",
    "\n",
    "- **Support Vector Machine**\n",
    "- **Neural Network**\n",
    "\n"
   ]
  },
  {
   "cell_type": "markdown",
   "id": "1557e9b7",
   "metadata": {
    "id": "1557e9b7"
   },
   "source": [
    "## SVM"
   ]
  },
  {
   "cell_type": "code",
   "execution_count": null,
   "id": "00c12e68",
   "metadata": {},
   "outputs": [],
   "source": []
  },
  {
   "cell_type": "code",
   "execution_count": 49,
   "id": "9b8fd9c3",
   "metadata": {
    "colab": {
     "base_uri": "https://localhost:8080/"
    },
    "id": "9b8fd9c3",
    "outputId": "b3e59198-f8d5-4ced-b76d-a2658b36b6ed"
   },
   "outputs": [],
   "source": [
    "# Linear kernal or linear decision boundary\n",
    "svm = SVC(kernel='linear') \n",
    "model = svm.fit(X= X_train, y = y_train)\n"
   ]
  },
  {
   "cell_type": "code",
   "execution_count": 43,
   "id": "f08df9a3",
   "metadata": {},
   "outputs": [
    {
     "name": "stdout",
     "output_type": "stream",
     "text": [
      "              precision    recall  f1-score   support\n",
      "\n",
      "           0       0.85      0.97      0.90        34\n",
      "           1       0.97      0.84      0.90        38\n",
      "\n",
      "    accuracy                           0.90        72\n",
      "   macro avg       0.91      0.91      0.90        72\n",
      "weighted avg       0.91      0.90      0.90        72\n",
      "\n"
     ]
    },
    {
     "data": {
      "image/png": "[encoded data removed]",
      "text/plain": [
       "<Figure size 576x360 with 2 Axes>"
      ]
     },
     "metadata": {},
     "output_type": "display_data"
    }
   ],
   "source": [
    "y_pred_train_svm = model.predict(X_train)\n",
    "\n",
    "metrics_score(y_train, y_pred_train_svm)"
   ]
  },
  {
   "cell_type": "code",
   "execution_count": 44,
   "id": "35018baa",
   "metadata": {},
   "outputs": [
    {
     "name": "stdout",
     "output_type": "stream",
     "text": [
      "              precision    recall  f1-score   support\n",
      "\n",
      "           0       0.80      1.00      0.89         8\n",
      "           1       1.00      0.80      0.89        10\n",
      "\n",
      "    accuracy                           0.89        18\n",
      "   macro avg       0.90      0.90      0.89        18\n",
      "weighted avg       0.91      0.89      0.89        18\n",
      "\n"
     ]
    },
    {
     "data": {
      "image/png": "[encoded data removed]",
      "text/plain": [
       "<Figure size 576x360 with 2 Axes>"
      ]
     },
     "metadata": {},
     "output_type": "display_data"
    }
   ],
   "source": [
    "y_pred_test_svm = model.predict(X_test)\n",
    "\n",
    "metrics_score(y_test, y_pred_test_svm)"
   ]
  },
  {
   "cell_type": "code",
   "execution_count": 45,
   "id": "71dd8be2",
   "metadata": {},
   "outputs": [
    {
     "data": {
      "image/png": "[encoded data removed]",
      "text/plain": [
       "<Figure size 720x504 with 1 Axes>"
      ]
     },
     "metadata": {},
     "output_type": "display_data"
    }
   ],
   "source": [
    "svm_rbf=SVC(kernel='rbf',probability=True)\n",
    "# Fit the model\n",
    "svm_rbf.fit(X_train,y_train)\n",
    "# Predict on train data\n",
    "y_scores_svm=svm_rbf.predict_proba(X_train)\n",
    "\n",
    "precisions_svm, recalls_svm, thresholds_svm = precision_recall_curve(y_train, y_scores_svm[:,1])\n",
    "\n",
    "# Plot values of precisions, recalls, and thresholds\n",
    "plt.figure(figsize=(10,7))\n",
    "plt.plot(thresholds_svm, precisions_svm[:-1], 'b--', label='precision')\n",
    "plt.plot(thresholds_svm, recalls_svm[:-1], 'g--', label = 'recall')\n",
    "plt.xlabel('Threshold')\n",
    "plt.legend(loc='upper left')\n",
    "plt.ylim([0,1])\n",
    "plt.show()"
   ]
  },
  {
   "cell_type": "code",
   "execution_count": 47,
   "id": "848965c6",
   "metadata": {},
   "outputs": [
    {
     "name": "stdout",
     "output_type": "stream",
     "text": [
      "              precision    recall  f1-score   support\n",
      "\n",
      "           0       0.97      0.94      0.96        34\n",
      "           1       0.95      0.97      0.96        38\n",
      "\n",
      "    accuracy                           0.96        72\n",
      "   macro avg       0.96      0.96      0.96        72\n",
      "weighted avg       0.96      0.96      0.96        72\n",
      "\n"
     ]
    },
    {
     "data": {
      "image/png": "[encoded data removed]",
      "text/plain": [
       "<Figure size 576x360 with 2 Axes>"
      ]
     },
     "metadata": {},
     "output_type": "display_data"
    }
   ],
   "source": [
    "optimal_threshold_svm=.38\n",
    "y_pred_train = svm_rbf.predict_proba(X_train)\n",
    "\n",
    "metrics_score(y_train, y_pred_train[:,1]>optimal_threshold_svm)"
   ]
  },
  {
   "cell_type": "code",
   "execution_count": 48,
   "id": "c25967ff",
   "metadata": {},
   "outputs": [
    {
     "name": "stdout",
     "output_type": "stream",
     "text": [
      "              precision    recall  f1-score   support\n",
      "\n",
      "           0       0.89      1.00      0.94         8\n",
      "           1       1.00      0.90      0.95        10\n",
      "\n",
      "    accuracy                           0.94        18\n",
      "   macro avg       0.94      0.95      0.94        18\n",
      "weighted avg       0.95      0.94      0.94        18\n",
      "\n"
     ]
    },
    {
     "data": {
      "image/png": "[encoded data removed]",
      "text/plain": [
       "<Figure size 576x360 with 2 Axes>"
      ]
     },
     "metadata": {},
     "output_type": "display_data"
    }
   ],
   "source": [
    "optimal_threshold_svm=.38\n",
    "y_pred_test = svm_rbf.predict_proba(X_test)\n",
    "metrics_score(y_test, y_pred_test[:,1]>optimal_threshold_svm)"
   ]
  },
  {
   "cell_type": "markdown",
   "id": "ea2dfecc",
   "metadata": {
    "id": "ea2dfecc"
   },
   "source": [
    "### **NEURAL NETWORK**"
   ]
  },
  {
   "cell_type": "code",
   "execution_count": 147,
   "id": "102f90d9",
   "metadata": {
    "id": "102f90d9"
   },
   "outputs": [],
   "source": [
    "# Fixing the seed for random number generators\n",
    "np.random.seed(42)\n",
    "\n",
    "import random\n",
    "random.seed(42)\n",
    "\n",
    "tf.random.set_seed(42)"
   ]
  },
  {
   "cell_type": "markdown",
   "id": "IE-6hO9SdQr4",
   "metadata": {
    "id": "IE-6hO9SdQr4"
   },
   "source": [
    "**Let's build a feed forward neural network with 2 hidden layers and the output layer.**"
   ]
  },
  {
   "cell_type": "code",
   "execution_count": 148,
   "id": "9660d380",
   "metadata": {
    "id": "9660d380"
   },
   "outputs": [],
   "source": [
    "# # We will be adding the layers sequentially\n",
    "nn_model = Sequential()\n",
    "\n",
    "# First hidden layer with 128 neurons and relu activation function, the input shape tuple denotes number of independent variables\n",
    "nn_model.add(Dense(128, activation='relu', input_shape=(6,)))\n",
    "\n",
    "# We will be switching 20% of neurons off randomly at each iteration to avoid overfitting\n",
    "nn_model.add(Dropout(0.2))\n",
    "\n",
    "# Second hidden layer with 64 neurons and relu activation function\n",
    "nn_model.add(Dense(64, activation='relu'))\n",
    "\n",
    "# We will be switching 10% of neurons off randomly at each iteration to avoid overfitting\n",
    "nn_model.add(Dropout(0.1))\n",
    "\n",
    "# Output layer with only one neuron and sigmoid as activation function  \n",
    "nn_model.add(Dense(1, activation='sigmoid'))"
   ]
  },
  {
   "cell_type": "code",
   "execution_count": 149,
   "id": "595d0489",
   "metadata": {
    "colab": {
     "base_uri": "https://localhost:8080/"
    },
    "id": "595d0489",
    "outputId": "c61e4e15-5cb7-4e90-f970-1f9582683bf7"
   },
   "outputs": [
    {
     "name": "stdout",
     "output_type": "stream",
     "text": [
      "Model: \"sequential_1\"\n",
      "_________________________________________________________________\n",
      " Layer (type)                Output Shape              Param #   \n",
      "=================================================================\n",
      " dense_3 (Dense)             (None, 128)               896       \n",
      "                                                                 \n",
      " dropout_2 (Dropout)         (None, 128)               0         \n",
      "                                                                 \n",
      " dense_4 (Dense)             (None, 64)                8256      \n",
      "                                                                 \n",
      " dropout_3 (Dropout)         (None, 64)                0         \n",
      "                                                                 \n",
      " dense_5 (Dense)             (None, 1)                 65        \n",
      "                                                                 \n",
      "=================================================================\n",
      "Total params: 9,217\n",
      "Trainable params: 9,217\n",
      "Non-trainable params: 0\n",
      "_________________________________________________________________\n"
     ]
    }
   ],
   "source": [
    "nn_model.compile(loss = 'binary_crossentropy', optimizer='adamax', metrics=['accuracy'])\n",
    "\n",
    "nn_model.summary()"
   ]
  },
  {
   "cell_type": "code",
   "execution_count": 150,
   "id": "68189263",
   "metadata": {
    "colab": {
     "base_uri": "https://localhost:8080/"
    },
    "id": "68189263",
    "outputId": "9e94a030-4c93-410b-a2b3-0bf973cee72a"
   },
   "outputs": [
    {
     "name": "stdout",
     "output_type": "stream",
     "text": [
      "Epoch 1/150\n",
      "2/2 - 1s - loss: 0.6872 - accuracy: 0.4531 - val_loss: 0.6420 - val_accuracy: 0.6250 - 622ms/epoch - 311ms/step\n",
      "Epoch 2/150\n",
      "2/2 - 0s - loss: 0.6810 - accuracy: 0.4844 - val_loss: 0.6420 - val_accuracy: 0.7500 - 25ms/epoch - 12ms/step\n",
      "Epoch 3/150\n",
      "2/2 - 0s - loss: 0.6722 - accuracy: 0.4688 - val_loss: 0.6417 - val_accuracy: 0.7500 - 44ms/epoch - 22ms/step\n",
      "Epoch 4/150\n",
      "2/2 - 0s - loss: 0.6656 - accuracy: 0.5781 - val_loss: 0.6419 - val_accuracy: 0.7500 - 31ms/epoch - 16ms/step\n",
      "Epoch 5/150\n",
      "2/2 - 0s - loss: 0.6492 - accuracy: 0.6094 - val_loss: 0.6403 - val_accuracy: 0.7500 - 30ms/epoch - 15ms/step\n",
      "Epoch 6/150\n",
      "2/2 - 0s - loss: 0.6530 - accuracy: 0.5781 - val_loss: 0.6390 - val_accuracy: 0.7500 - 47ms/epoch - 23ms/step\n",
      "Epoch 7/150\n",
      "2/2 - 0s - loss: 0.6527 - accuracy: 0.6719 - val_loss: 0.6385 - val_accuracy: 0.7500 - 25ms/epoch - 13ms/step\n",
      "Epoch 8/150\n",
      "2/2 - 0s - loss: 0.6360 - accuracy: 0.7656 - val_loss: 0.6377 - val_accuracy: 0.7500 - 26ms/epoch - 13ms/step\n",
      "Epoch 9/150\n",
      "2/2 - 0s - loss: 0.6345 - accuracy: 0.6875 - val_loss: 0.6362 - val_accuracy: 0.7500 - 27ms/epoch - 14ms/step\n",
      "Epoch 10/150\n",
      "2/2 - 0s - loss: 0.6350 - accuracy: 0.7188 - val_loss: 0.6345 - val_accuracy: 0.7500 - 28ms/epoch - 14ms/step\n",
      "Epoch 11/150\n",
      "2/2 - 0s - loss: 0.6258 - accuracy: 0.8281 - val_loss: 0.6320 - val_accuracy: 0.7500 - 30ms/epoch - 15ms/step\n",
      "Epoch 12/150\n",
      "2/2 - 0s - loss: 0.6253 - accuracy: 0.7656 - val_loss: 0.6294 - val_accuracy: 0.7500 - 25ms/epoch - 12ms/step\n",
      "Epoch 13/150\n",
      "2/2 - 0s - loss: 0.6239 - accuracy: 0.7344 - val_loss: 0.6270 - val_accuracy: 0.7500 - 25ms/epoch - 12ms/step\n",
      "Epoch 14/150\n",
      "2/2 - 0s - loss: 0.6201 - accuracy: 0.8125 - val_loss: 0.6254 - val_accuracy: 0.7500 - 28ms/epoch - 14ms/step\n",
      "Epoch 15/150\n",
      "2/2 - 0s - loss: 0.6021 - accuracy: 0.8125 - val_loss: 0.6237 - val_accuracy: 0.8750 - 27ms/epoch - 13ms/step\n",
      "Epoch 16/150\n",
      "2/2 - 0s - loss: 0.5985 - accuracy: 0.8281 - val_loss: 0.6221 - val_accuracy: 0.8750 - 27ms/epoch - 13ms/step\n",
      "Epoch 17/150\n",
      "2/2 - 0s - loss: 0.5904 - accuracy: 0.8281 - val_loss: 0.6201 - val_accuracy: 0.8750 - 30ms/epoch - 15ms/step\n",
      "Epoch 18/150\n",
      "2/2 - 0s - loss: 0.6019 - accuracy: 0.8125 - val_loss: 0.6186 - val_accuracy: 0.8750 - 29ms/epoch - 15ms/step\n",
      "Epoch 19/150\n",
      "2/2 - 0s - loss: 0.5919 - accuracy: 0.8281 - val_loss: 0.6165 - val_accuracy: 0.8750 - 27ms/epoch - 14ms/step\n",
      "Epoch 20/150\n",
      "2/2 - 0s - loss: 0.5948 - accuracy: 0.8438 - val_loss: 0.6150 - val_accuracy: 0.8750 - 27ms/epoch - 14ms/step\n",
      "Epoch 21/150\n",
      "2/2 - 0s - loss: 0.5792 - accuracy: 0.8281 - val_loss: 0.6129 - val_accuracy: 0.8750 - 27ms/epoch - 13ms/step\n",
      "Epoch 22/150\n",
      "2/2 - 0s - loss: 0.5645 - accuracy: 0.8906 - val_loss: 0.6118 - val_accuracy: 0.7500 - 28ms/epoch - 14ms/step\n",
      "Epoch 23/150\n",
      "2/2 - 0s - loss: 0.5640 - accuracy: 0.8438 - val_loss: 0.6092 - val_accuracy: 0.7500 - 26ms/epoch - 13ms/step\n",
      "Epoch 24/150\n",
      "2/2 - 0s - loss: 0.5660 - accuracy: 0.8594 - val_loss: 0.6073 - val_accuracy: 0.7500 - 25ms/epoch - 12ms/step\n",
      "Epoch 25/150\n",
      "2/2 - 0s - loss: 0.5588 - accuracy: 0.8750 - val_loss: 0.6050 - val_accuracy: 0.7500 - 25ms/epoch - 12ms/step\n",
      "Epoch 26/150\n",
      "2/2 - 0s - loss: 0.5489 - accuracy: 0.8594 - val_loss: 0.6034 - val_accuracy: 0.7500 - 29ms/epoch - 14ms/step\n",
      "Epoch 27/150\n",
      "2/2 - 0s - loss: 0.5380 - accuracy: 0.8906 - val_loss: 0.6021 - val_accuracy: 0.7500 - 29ms/epoch - 15ms/step\n",
      "Epoch 28/150\n",
      "2/2 - 0s - loss: 0.5378 - accuracy: 0.8750 - val_loss: 0.6007 - val_accuracy: 0.7500 - 27ms/epoch - 14ms/step\n",
      "Epoch 29/150\n",
      "2/2 - 0s - loss: 0.5357 - accuracy: 0.8750 - val_loss: 0.5990 - val_accuracy: 0.7500 - 30ms/epoch - 15ms/step\n",
      "Epoch 30/150\n",
      "2/2 - 0s - loss: 0.5399 - accuracy: 0.8594 - val_loss: 0.5970 - val_accuracy: 0.6250 - 27ms/epoch - 14ms/step\n",
      "Epoch 31/150\n",
      "2/2 - 0s - loss: 0.5303 - accuracy: 0.8438 - val_loss: 0.5944 - val_accuracy: 0.6250 - 26ms/epoch - 13ms/step\n",
      "Epoch 32/150\n",
      "2/2 - 0s - loss: 0.5191 - accuracy: 0.8594 - val_loss: 0.5930 - val_accuracy: 0.6250 - 26ms/epoch - 13ms/step\n",
      "Epoch 33/150\n",
      "2/2 - 0s - loss: 0.5219 - accuracy: 0.8125 - val_loss: 0.5916 - val_accuracy: 0.6250 - 26ms/epoch - 13ms/step\n",
      "Epoch 34/150\n",
      "2/2 - 0s - loss: 0.5218 - accuracy: 0.8438 - val_loss: 0.5890 - val_accuracy: 0.6250 - 26ms/epoch - 13ms/step\n",
      "Epoch 35/150\n",
      "2/2 - 0s - loss: 0.5137 - accuracy: 0.8594 - val_loss: 0.5871 - val_accuracy: 0.6250 - 26ms/epoch - 13ms/step\n",
      "Epoch 36/150\n",
      "2/2 - 0s - loss: 0.5086 - accuracy: 0.8594 - val_loss: 0.5861 - val_accuracy: 0.6250 - 25ms/epoch - 12ms/step\n",
      "Epoch 37/150\n",
      "2/2 - 0s - loss: 0.5040 - accuracy: 0.8594 - val_loss: 0.5846 - val_accuracy: 0.6250 - 31ms/epoch - 16ms/step\n",
      "Epoch 38/150\n",
      "2/2 - 0s - loss: 0.5040 - accuracy: 0.8281 - val_loss: 0.5827 - val_accuracy: 0.6250 - 29ms/epoch - 14ms/step\n",
      "Epoch 39/150\n",
      "2/2 - 0s - loss: 0.4799 - accuracy: 0.8438 - val_loss: 0.5818 - val_accuracy: 0.6250 - 27ms/epoch - 14ms/step\n",
      "Epoch 40/150\n",
      "2/2 - 0s - loss: 0.4971 - accuracy: 0.8438 - val_loss: 0.5798 - val_accuracy: 0.6250 - 26ms/epoch - 13ms/step\n",
      "Epoch 41/150\n",
      "2/2 - 0s - loss: 0.4852 - accuracy: 0.8594 - val_loss: 0.5788 - val_accuracy: 0.6250 - 26ms/epoch - 13ms/step\n",
      "Epoch 42/150\n",
      "2/2 - 0s - loss: 0.4902 - accuracy: 0.8594 - val_loss: 0.5767 - val_accuracy: 0.6250 - 26ms/epoch - 13ms/step\n",
      "Epoch 43/150\n",
      "2/2 - 0s - loss: 0.4835 - accuracy: 0.8438 - val_loss: 0.5758 - val_accuracy: 0.6250 - 25ms/epoch - 13ms/step\n",
      "Epoch 44/150\n",
      "2/2 - 0s - loss: 0.4788 - accuracy: 0.8281 - val_loss: 0.5751 - val_accuracy: 0.6250 - 46ms/epoch - 23ms/step\n",
      "Epoch 45/150\n",
      "2/2 - 0s - loss: 0.4820 - accuracy: 0.8594 - val_loss: 0.5743 - val_accuracy: 0.6250 - 25ms/epoch - 12ms/step\n",
      "Epoch 46/150\n",
      "2/2 - 0s - loss: 0.4691 - accuracy: 0.8750 - val_loss: 0.5721 - val_accuracy: 0.6250 - 26ms/epoch - 13ms/step\n",
      "Epoch 47/150\n",
      "2/2 - 0s - loss: 0.4648 - accuracy: 0.8438 - val_loss: 0.5707 - val_accuracy: 0.6250 - 31ms/epoch - 15ms/step\n",
      "Epoch 48/150\n",
      "2/2 - 0s - loss: 0.4599 - accuracy: 0.8438 - val_loss: 0.5694 - val_accuracy: 0.6250 - 26ms/epoch - 13ms/step\n",
      "Epoch 49/150\n",
      "2/2 - 0s - loss: 0.4661 - accuracy: 0.8438 - val_loss: 0.5678 - val_accuracy: 0.6250 - 26ms/epoch - 13ms/step\n",
      "Epoch 50/150\n",
      "2/2 - 0s - loss: 0.4598 - accuracy: 0.8594 - val_loss: 0.5663 - val_accuracy: 0.6250 - 26ms/epoch - 13ms/step\n",
      "Epoch 51/150\n",
      "2/2 - 0s - loss: 0.4499 - accuracy: 0.8438 - val_loss: 0.5647 - val_accuracy: 0.6250 - 46ms/epoch - 23ms/step\n",
      "Epoch 52/150\n",
      "2/2 - 0s - loss: 0.4588 - accuracy: 0.8438 - val_loss: 0.5616 - val_accuracy: 0.6250 - 27ms/epoch - 14ms/step\n",
      "Epoch 53/150\n",
      "2/2 - 0s - loss: 0.4274 - accuracy: 0.8594 - val_loss: 0.5575 - val_accuracy: 0.6250 - 27ms/epoch - 13ms/step\n",
      "Epoch 54/150\n",
      "2/2 - 0s - loss: 0.4527 - accuracy: 0.8750 - val_loss: 0.5546 - val_accuracy: 0.6250 - 29ms/epoch - 15ms/step\n",
      "Epoch 55/150\n",
      "2/2 - 0s - loss: 0.4327 - accuracy: 0.8438 - val_loss: 0.5517 - val_accuracy: 0.6250 - 33ms/epoch - 16ms/step\n",
      "Epoch 56/150\n",
      "2/2 - 0s - loss: 0.4375 - accuracy: 0.8438 - val_loss: 0.5476 - val_accuracy: 0.6250 - 30ms/epoch - 15ms/step\n",
      "Epoch 57/150\n",
      "2/2 - 0s - loss: 0.4440 - accuracy: 0.8281 - val_loss: 0.5438 - val_accuracy: 0.6250 - 26ms/epoch - 13ms/step\n",
      "Epoch 58/150\n",
      "2/2 - 0s - loss: 0.4228 - accuracy: 0.8438 - val_loss: 0.5410 - val_accuracy: 0.6250 - 27ms/epoch - 14ms/step\n",
      "Epoch 59/150\n",
      "2/2 - 0s - loss: 0.4482 - accuracy: 0.8594 - val_loss: 0.5390 - val_accuracy: 0.6250 - 25ms/epoch - 12ms/step\n",
      "Epoch 60/150\n",
      "2/2 - 0s - loss: 0.4385 - accuracy: 0.8594 - val_loss: 0.5365 - val_accuracy: 0.6250 - 27ms/epoch - 13ms/step\n",
      "Epoch 61/150\n",
      "2/2 - 0s - loss: 0.4336 - accuracy: 0.8438 - val_loss: 0.5345 - val_accuracy: 0.6250 - 26ms/epoch - 13ms/step\n",
      "Epoch 62/150\n",
      "2/2 - 0s - loss: 0.4249 - accuracy: 0.8594 - val_loss: 0.5318 - val_accuracy: 0.6250 - 26ms/epoch - 13ms/step\n",
      "Epoch 63/150\n",
      "2/2 - 0s - loss: 0.4066 - accuracy: 0.8438 - val_loss: 0.5293 - val_accuracy: 0.6250 - 27ms/epoch - 13ms/step\n",
      "Epoch 64/150\n",
      "2/2 - 0s - loss: 0.4062 - accuracy: 0.8594 - val_loss: 0.5273 - val_accuracy: 0.6250 - 46ms/epoch - 23ms/step\n",
      "Epoch 65/150\n",
      "2/2 - 0s - loss: 0.4069 - accuracy: 0.8438 - val_loss: 0.5261 - val_accuracy: 0.6250 - 32ms/epoch - 16ms/step\n",
      "Epoch 66/150\n",
      "2/2 - 0s - loss: 0.4103 - accuracy: 0.8125 - val_loss: 0.5244 - val_accuracy: 0.6250 - 26ms/epoch - 13ms/step\n",
      "Epoch 67/150\n",
      "2/2 - 0s - loss: 0.4048 - accuracy: 0.8594 - val_loss: 0.5220 - val_accuracy: 0.6250 - 34ms/epoch - 17ms/step\n",
      "Epoch 68/150\n",
      "2/2 - 0s - loss: 0.3996 - accuracy: 0.8594 - val_loss: 0.5201 - val_accuracy: 0.6250 - 28ms/epoch - 14ms/step\n",
      "Epoch 69/150\n",
      "2/2 - 0s - loss: 0.4162 - accuracy: 0.8438 - val_loss: 0.5161 - val_accuracy: 0.6250 - 27ms/epoch - 14ms/step\n",
      "Epoch 70/150\n",
      "2/2 - 0s - loss: 0.3974 - accuracy: 0.8906 - val_loss: 0.5151 - val_accuracy: 0.6250 - 26ms/epoch - 13ms/step\n",
      "Epoch 71/150\n",
      "2/2 - 0s - loss: 0.3965 - accuracy: 0.8438 - val_loss: 0.5136 - val_accuracy: 0.6250 - 26ms/epoch - 13ms/step\n",
      "Epoch 72/150\n",
      "2/2 - 0s - loss: 0.3992 - accuracy: 0.8438 - val_loss: 0.5112 - val_accuracy: 0.6250 - 26ms/epoch - 13ms/step\n",
      "Epoch 73/150\n",
      "2/2 - 0s - loss: 0.4086 - accuracy: 0.8750 - val_loss: 0.5077 - val_accuracy: 0.6250 - 30ms/epoch - 15ms/step\n",
      "Epoch 74/150\n",
      "2/2 - 0s - loss: 0.4062 - accuracy: 0.8281 - val_loss: 0.5055 - val_accuracy: 0.6250 - 26ms/epoch - 13ms/step\n",
      "Epoch 75/150\n",
      "2/2 - 0s - loss: 0.3906 - accuracy: 0.8594 - val_loss: 0.5024 - val_accuracy: 0.6250 - 27ms/epoch - 14ms/step\n",
      "Epoch 76/150\n",
      "2/2 - 0s - loss: 0.4017 - accuracy: 0.8125 - val_loss: 0.4974 - val_accuracy: 0.6250 - 27ms/epoch - 13ms/step\n",
      "Epoch 77/150\n",
      "2/2 - 0s - loss: 0.3797 - accuracy: 0.8594 - val_loss: 0.4919 - val_accuracy: 0.6250 - 26ms/epoch - 13ms/step\n",
      "Epoch 78/150\n",
      "2/2 - 0s - loss: 0.3623 - accuracy: 0.8594 - val_loss: 0.4868 - val_accuracy: 0.6250 - 32ms/epoch - 16ms/step\n",
      "Epoch 79/150\n",
      "2/2 - 0s - loss: 0.3784 - accuracy: 0.8438 - val_loss: 0.4823 - val_accuracy: 0.6250 - 27ms/epoch - 13ms/step\n",
      "Epoch 80/150\n",
      "2/2 - 0s - loss: 0.4019 - accuracy: 0.8594 - val_loss: 0.4775 - val_accuracy: 0.6250 - 39ms/epoch - 20ms/step\n",
      "Epoch 81/150\n",
      "2/2 - 0s - loss: 0.3817 - accuracy: 0.8750 - val_loss: 0.4736 - val_accuracy: 0.6250 - 33ms/epoch - 17ms/step\n",
      "Epoch 82/150\n",
      "2/2 - 0s - loss: 0.3595 - accuracy: 0.8750 - val_loss: 0.4690 - val_accuracy: 0.6250 - 31ms/epoch - 15ms/step\n",
      "Epoch 83/150\n",
      "2/2 - 0s - loss: 0.3584 - accuracy: 0.8750 - val_loss: 0.4656 - val_accuracy: 0.6250 - 30ms/epoch - 15ms/step\n",
      "Epoch 84/150\n",
      "2/2 - 0s - loss: 0.3772 - accuracy: 0.8594 - val_loss: 0.4638 - val_accuracy: 0.6250 - 29ms/epoch - 15ms/step\n",
      "Epoch 85/150\n",
      "2/2 - 0s - loss: 0.3823 - accuracy: 0.8750 - val_loss: 0.4641 - val_accuracy: 0.6250 - 31ms/epoch - 16ms/step\n",
      "Epoch 86/150\n",
      "2/2 - 0s - loss: 0.3361 - accuracy: 0.8594 - val_loss: 0.4622 - val_accuracy: 0.6250 - 26ms/epoch - 13ms/step\n",
      "Epoch 87/150\n",
      "2/2 - 0s - loss: 0.3657 - accuracy: 0.8906 - val_loss: 0.4591 - val_accuracy: 0.6250 - 26ms/epoch - 13ms/step\n",
      "Epoch 88/150\n",
      "2/2 - 0s - loss: 0.3905 - accuracy: 0.8750 - val_loss: 0.4564 - val_accuracy: 0.6250 - 27ms/epoch - 13ms/step\n",
      "Epoch 89/150\n",
      "2/2 - 0s - loss: 0.3810 - accuracy: 0.8594 - val_loss: 0.4529 - val_accuracy: 0.6250 - 26ms/epoch - 13ms/step\n",
      "Epoch 90/150\n",
      "2/2 - 0s - loss: 0.3535 - accuracy: 0.8750 - val_loss: 0.4503 - val_accuracy: 0.6250 - 26ms/epoch - 13ms/step\n",
      "Epoch 91/150\n",
      "2/2 - 0s - loss: 0.3574 - accuracy: 0.8750 - val_loss: 0.4470 - val_accuracy: 0.6250 - 26ms/epoch - 13ms/step\n",
      "Epoch 92/150\n",
      "2/2 - 0s - loss: 0.3523 - accuracy: 0.8750 - val_loss: 0.4445 - val_accuracy: 0.6250 - 44ms/epoch - 22ms/step\n",
      "Epoch 93/150\n",
      "2/2 - 0s - loss: 0.3601 - accuracy: 0.8906 - val_loss: 0.4423 - val_accuracy: 0.6250 - 26ms/epoch - 13ms/step\n",
      "Epoch 94/150\n",
      "2/2 - 0s - loss: 0.3569 - accuracy: 0.8750 - val_loss: 0.4403 - val_accuracy: 0.6250 - 26ms/epoch - 13ms/step\n",
      "Epoch 95/150\n",
      "2/2 - 0s - loss: 0.3451 - accuracy: 0.8906 - val_loss: 0.4381 - val_accuracy: 0.6250 - 28ms/epoch - 14ms/step\n",
      "Epoch 96/150\n",
      "2/2 - 0s - loss: 0.3614 - accuracy: 0.8750 - val_loss: 0.4345 - val_accuracy: 0.6250 - 26ms/epoch - 13ms/step\n",
      "Epoch 97/150\n",
      "2/2 - 0s - loss: 0.3409 - accuracy: 0.8906 - val_loss: 0.4324 - val_accuracy: 0.6250 - 34ms/epoch - 17ms/step\n",
      "Epoch 98/150\n",
      "2/2 - 0s - loss: 0.3645 - accuracy: 0.8594 - val_loss: 0.4300 - val_accuracy: 0.7500 - 26ms/epoch - 13ms/step\n",
      "Epoch 99/150\n",
      "2/2 - 0s - loss: 0.3430 - accuracy: 0.8906 - val_loss: 0.4270 - val_accuracy: 0.7500 - 28ms/epoch - 14ms/step\n",
      "Epoch 100/150\n",
      "2/2 - 0s - loss: 0.3540 - accuracy: 0.8594 - val_loss: 0.4231 - val_accuracy: 0.7500 - 29ms/epoch - 14ms/step\n",
      "Epoch 101/150\n",
      "2/2 - 0s - loss: 0.3469 - accuracy: 0.8594 - val_loss: 0.4198 - val_accuracy: 0.7500 - 27ms/epoch - 14ms/step\n",
      "Epoch 102/150\n",
      "2/2 - 0s - loss: 0.3408 - accuracy: 0.8594 - val_loss: 0.4166 - val_accuracy: 0.7500 - 26ms/epoch - 13ms/step\n",
      "Epoch 103/150\n",
      "2/2 - 0s - loss: 0.3378 - accuracy: 0.8438 - val_loss: 0.4143 - val_accuracy: 0.7500 - 26ms/epoch - 13ms/step\n",
      "Epoch 104/150\n",
      "2/2 - 0s - loss: 0.3393 - accuracy: 0.8594 - val_loss: 0.4130 - val_accuracy: 0.7500 - 27ms/epoch - 13ms/step\n",
      "Epoch 105/150\n",
      "2/2 - 0s - loss: 0.3325 - accuracy: 0.8750 - val_loss: 0.4116 - val_accuracy: 0.7500 - 30ms/epoch - 15ms/step\n",
      "Epoch 106/150\n",
      "2/2 - 0s - loss: 0.3320 - accuracy: 0.8906 - val_loss: 0.4080 - val_accuracy: 0.7500 - 29ms/epoch - 14ms/step\n",
      "Epoch 107/150\n",
      "2/2 - 0s - loss: 0.3537 - accuracy: 0.8750 - val_loss: 0.4038 - val_accuracy: 0.7500 - 25ms/epoch - 13ms/step\n",
      "Epoch 108/150\n",
      "2/2 - 0s - loss: 0.3452 - accuracy: 0.8906 - val_loss: 0.4010 - val_accuracy: 0.7500 - 28ms/epoch - 14ms/step\n",
      "Epoch 109/150\n",
      "2/2 - 0s - loss: 0.3173 - accuracy: 0.9062 - val_loss: 0.3972 - val_accuracy: 0.7500 - 48ms/epoch - 24ms/step\n",
      "Epoch 110/150\n",
      "2/2 - 0s - loss: 0.3252 - accuracy: 0.8906 - val_loss: 0.3949 - val_accuracy: 0.7500 - 27ms/epoch - 13ms/step\n",
      "Epoch 111/150\n",
      "2/2 - 0s - loss: 0.3355 - accuracy: 0.8750 - val_loss: 0.3936 - val_accuracy: 0.7500 - 27ms/epoch - 14ms/step\n",
      "Epoch 112/150\n",
      "2/2 - 0s - loss: 0.3520 - accuracy: 0.8750 - val_loss: 0.3908 - val_accuracy: 0.7500 - 27ms/epoch - 14ms/step\n",
      "Epoch 113/150\n",
      "2/2 - 0s - loss: 0.3318 - accuracy: 0.8750 - val_loss: 0.3899 - val_accuracy: 0.7500 - 46ms/epoch - 23ms/step\n",
      "Epoch 114/150\n",
      "2/2 - 0s - loss: 0.3385 - accuracy: 0.8750 - val_loss: 0.3887 - val_accuracy: 0.7500 - 26ms/epoch - 13ms/step\n",
      "Epoch 115/150\n",
      "2/2 - 0s - loss: 0.3420 - accuracy: 0.8750 - val_loss: 0.3857 - val_accuracy: 0.7500 - 26ms/epoch - 13ms/step\n",
      "Epoch 116/150\n",
      "2/2 - 0s - loss: 0.3206 - accuracy: 0.9062 - val_loss: 0.3817 - val_accuracy: 0.8750 - 25ms/epoch - 13ms/step\n",
      "Epoch 117/150\n",
      "2/2 - 0s - loss: 0.3249 - accuracy: 0.8750 - val_loss: 0.3793 - val_accuracy: 0.8750 - 30ms/epoch - 15ms/step\n",
      "Epoch 118/150\n",
      "2/2 - 0s - loss: 0.3272 - accuracy: 0.8906 - val_loss: 0.3749 - val_accuracy: 0.8750 - 32ms/epoch - 16ms/step\n",
      "Epoch 119/150\n",
      "2/2 - 0s - loss: 0.3266 - accuracy: 0.8906 - val_loss: 0.3707 - val_accuracy: 0.8750 - 27ms/epoch - 14ms/step\n",
      "Epoch 120/150\n",
      "2/2 - 0s - loss: 0.3246 - accuracy: 0.9062 - val_loss: 0.3658 - val_accuracy: 0.8750 - 27ms/epoch - 13ms/step\n",
      "Epoch 121/150\n",
      "2/2 - 0s - loss: 0.3321 - accuracy: 0.8750 - val_loss: 0.3615 - val_accuracy: 0.8750 - 26ms/epoch - 13ms/step\n",
      "Epoch 122/150\n",
      "2/2 - 0s - loss: 0.3310 - accuracy: 0.9062 - val_loss: 0.3582 - val_accuracy: 0.8750 - 28ms/epoch - 14ms/step\n",
      "Epoch 123/150\n",
      "2/2 - 0s - loss: 0.3397 - accuracy: 0.8906 - val_loss: 0.3564 - val_accuracy: 0.8750 - 26ms/epoch - 13ms/step\n",
      "Epoch 124/150\n",
      "2/2 - 0s - loss: 0.3052 - accuracy: 0.8906 - val_loss: 0.3557 - val_accuracy: 0.8750 - 28ms/epoch - 14ms/step\n",
      "Epoch 125/150\n",
      "2/2 - 0s - loss: 0.3177 - accuracy: 0.8750 - val_loss: 0.3539 - val_accuracy: 0.8750 - 25ms/epoch - 12ms/step\n",
      "Epoch 126/150\n",
      "2/2 - 0s - loss: 0.3258 - accuracy: 0.8750 - val_loss: 0.3552 - val_accuracy: 0.8750 - 30ms/epoch - 15ms/step\n",
      "Epoch 127/150\n",
      "2/2 - 0s - loss: 0.3032 - accuracy: 0.9062 - val_loss: 0.3561 - val_accuracy: 0.8750 - 29ms/epoch - 15ms/step\n",
      "Epoch 128/150\n",
      "2/2 - 0s - loss: 0.3100 - accuracy: 0.8906 - val_loss: 0.3584 - val_accuracy: 0.8750 - 30ms/epoch - 15ms/step\n",
      "Epoch 129/150\n",
      "2/2 - 0s - loss: 0.3080 - accuracy: 0.9062 - val_loss: 0.3579 - val_accuracy: 0.8750 - 25ms/epoch - 12ms/step\n",
      "Epoch 130/150\n",
      "2/2 - 0s - loss: 0.3037 - accuracy: 0.8906 - val_loss: 0.3560 - val_accuracy: 0.8750 - 25ms/epoch - 13ms/step\n",
      "Epoch 131/150\n",
      "2/2 - 0s - loss: 0.2697 - accuracy: 0.9062 - val_loss: 0.3519 - val_accuracy: 0.8750 - 26ms/epoch - 13ms/step\n",
      "Epoch 132/150\n",
      "2/2 - 0s - loss: 0.3163 - accuracy: 0.8750 - val_loss: 0.3482 - val_accuracy: 0.8750 - 44ms/epoch - 22ms/step\n",
      "Epoch 133/150\n",
      "2/2 - 0s - loss: 0.3053 - accuracy: 0.9062 - val_loss: 0.3431 - val_accuracy: 0.8750 - 25ms/epoch - 13ms/step\n",
      "Epoch 134/150\n",
      "2/2 - 0s - loss: 0.3132 - accuracy: 0.8906 - val_loss: 0.3384 - val_accuracy: 1.0000 - 28ms/epoch - 14ms/step\n",
      "Epoch 135/150\n",
      "2/2 - 0s - loss: 0.3325 - accuracy: 0.8906 - val_loss: 0.3348 - val_accuracy: 1.0000 - 27ms/epoch - 13ms/step\n",
      "Epoch 136/150\n",
      "2/2 - 0s - loss: 0.3224 - accuracy: 0.8906 - val_loss: 0.3318 - val_accuracy: 1.0000 - 27ms/epoch - 13ms/step\n",
      "Epoch 137/150\n",
      "2/2 - 0s - loss: 0.2986 - accuracy: 0.8906 - val_loss: 0.3296 - val_accuracy: 1.0000 - 27ms/epoch - 14ms/step\n",
      "Epoch 138/150\n",
      "2/2 - 0s - loss: 0.2834 - accuracy: 0.8906 - val_loss: 0.3285 - val_accuracy: 1.0000 - 28ms/epoch - 14ms/step\n",
      "Epoch 139/150\n",
      "2/2 - 0s - loss: 0.2914 - accuracy: 0.9062 - val_loss: 0.3281 - val_accuracy: 1.0000 - 43ms/epoch - 22ms/step\n",
      "Epoch 140/150\n",
      "2/2 - 0s - loss: 0.2979 - accuracy: 0.8906 - val_loss: 0.3276 - val_accuracy: 1.0000 - 27ms/epoch - 13ms/step\n",
      "Epoch 141/150\n",
      "2/2 - 0s - loss: 0.2904 - accuracy: 0.8750 - val_loss: 0.3264 - val_accuracy: 1.0000 - 47ms/epoch - 23ms/step\n",
      "Epoch 142/150\n",
      "2/2 - 0s - loss: 0.2932 - accuracy: 0.8750 - val_loss: 0.3246 - val_accuracy: 1.0000 - 25ms/epoch - 13ms/step\n",
      "Epoch 143/150\n",
      "2/2 - 0s - loss: 0.2928 - accuracy: 0.8906 - val_loss: 0.3250 - val_accuracy: 1.0000 - 26ms/epoch - 13ms/step\n",
      "Epoch 144/150\n",
      "2/2 - 0s - loss: 0.2786 - accuracy: 0.8750 - val_loss: 0.3252 - val_accuracy: 1.0000 - 26ms/epoch - 13ms/step\n",
      "Epoch 145/150\n",
      "2/2 - 0s - loss: 0.2754 - accuracy: 0.9062 - val_loss: 0.3245 - val_accuracy: 1.0000 - 27ms/epoch - 13ms/step\n",
      "Epoch 146/150\n",
      "2/2 - 0s - loss: 0.2851 - accuracy: 0.8750 - val_loss: 0.3210 - val_accuracy: 1.0000 - 26ms/epoch - 13ms/step\n",
      "Epoch 147/150\n",
      "2/2 - 0s - loss: 0.2946 - accuracy: 0.8750 - val_loss: 0.3183 - val_accuracy: 1.0000 - 27ms/epoch - 14ms/step\n",
      "Epoch 148/150\n",
      "2/2 - 0s - loss: 0.2772 - accuracy: 0.9062 - val_loss: 0.3138 - val_accuracy: 1.0000 - 26ms/epoch - 13ms/step\n",
      "Epoch 149/150\n",
      "2/2 - 0s - loss: 0.2992 - accuracy: 0.8750 - val_loss: 0.3075 - val_accuracy: 1.0000 - 26ms/epoch - 13ms/step\n",
      "Epoch 150/150\n",
      "2/2 - 0s - loss: 0.2641 - accuracy: 0.8906 - val_loss: 0.3011 - val_accuracy: 1.0000 - 26ms/epoch - 13ms/step\n"
     ]
    }
   ],
   "source": [
    "nn_model_history = nn_model.fit(X_train, \n",
    "                    y_train,\n",
    "                    validation_split=0.1, \n",
    "                    epochs=150, \n",
    "                    verbose=2)"
   ]
  },
  {
   "cell_type": "markdown",
   "id": "CH4ANY6FeOeA",
   "metadata": {
    "id": "CH4ANY6FeOeA"
   },
   "source": [
    "### **Plotting Accuracy vs Epoch Curve**"
   ]
  },
  {
   "cell_type": "code",
   "execution_count": 151,
   "id": "HOyBo3IBeERv",
   "metadata": {
    "colab": {
     "base_uri": "https://localhost:8080/",
     "height": 301
    },
    "id": "HOyBo3IBeERv",
    "outputId": "1f7b343f-f417-4c2a-d2df-44ccb4379db4"
   },
   "outputs": [
    {
     "data": {
      "image/png": "[encoded data removed]",
      "text/plain": [
       "<Figure size 432x288 with 1 Axes>"
      ]
     },
     "metadata": {},
     "output_type": "display_data"
    }
   ],
   "source": [
    "plt.plot(nn_model_history.history['accuracy'])\n",
    "plt.plot(nn_model_history.history['val_accuracy'])\n",
    "plt.title('Accuracy vs Epochs')\n",
    "plt.ylabel('Accuracy')\n",
    "plt.xlabel('Epoch')\n",
    "plt.legend(['Train', 'Validation'], loc='lower right')\n",
    "plt.show()"
   ]
  },
  {
   "cell_type": "code",
   "execution_count": 152,
   "id": "wAZjlbjkeUvI",
   "metadata": {
    "colab": {
     "base_uri": "https://localhost:8080/"
    },
    "id": "wAZjlbjkeUvI",
    "outputId": "d55e4ec3-970e-4d9a-b0a8-3bd1f2fb913b"
   },
   "outputs": [
    {
     "name": "stdout",
     "output_type": "stream",
     "text": [
      "3/3 [==============================] - 0s 3ms/step - loss: 0.2751 - accuracy: 0.9167\n",
      "3/3 [==============================] - 0s 3ms/step\n"
     ]
    }
   ],
   "source": [
    "nn_model.evaluate(X_train, y_train, verbose = 1)\n",
    "train_pred = np.round(nn_model.predict(X_train))"
   ]
  },
  {
   "cell_type": "code",
   "execution_count": 153,
   "id": "Sc70TkmHe0Ln",
   "metadata": {
    "colab": {
     "base_uri": "https://localhost:8080/"
    },
    "id": "Sc70TkmHe0Ln",
    "outputId": "b2a29280-5f61-47ed-fc99-a7c08f8348f6"
   },
   "outputs": [
    {
     "name": "stdout",
     "output_type": "stream",
     "text": [
      "1/1 [==============================] - 0s 18ms/step - loss: 0.2513 - accuracy: 0.9444\n",
      "1/1 [==============================] - 0s 17ms/step\n"
     ]
    }
   ],
   "source": [
    "nn_model.evaluate(X_test, y_test, verbose = 1)\n",
    "test_pred = np.round(nn_model.predict(X_test))"
   ]
  },
  {
   "cell_type": "code",
   "execution_count": 154,
   "id": "vbk9XGO_fOm2",
   "metadata": {
    "colab": {
     "base_uri": "https://localhost:8080/",
     "height": 500
    },
    "id": "vbk9XGO_fOm2",
    "outputId": "f60dbfb5-b265-4496-c5d1-f1d0d3060fdd"
   },
   "outputs": [
    {
     "name": "stdout",
     "output_type": "stream",
     "text": [
      "              precision    recall  f1-score   support\n",
      "\n",
      "           0       0.87      0.97      0.92        34\n",
      "           1       0.97      0.87      0.92        38\n",
      "\n",
      "    accuracy                           0.92        72\n",
      "   macro avg       0.92      0.92      0.92        72\n",
      "weighted avg       0.92      0.92      0.92        72\n",
      "\n"
     ]
    },
    {
     "data": {
      "image/png": "[encoded data removed]",
      "text/plain": [
       "<Figure size 576x360 with 2 Axes>"
      ]
     },
     "metadata": {},
     "output_type": "display_data"
    }
   ],
   "source": [
    "metrics_score(y_train, train_pred)"
   ]
  },
  {
   "cell_type": "code",
   "execution_count": 155,
   "id": "w0adk6-JfaCo",
   "metadata": {
    "colab": {
     "base_uri": "https://localhost:8080/",
     "height": 504
    },
    "id": "w0adk6-JfaCo",
    "outputId": "6f53e465-8cd2-4a82-b8dd-5041e1a22e0c"
   },
   "outputs": [
    {
     "name": "stdout",
     "output_type": "stream",
     "text": [
      "              precision    recall  f1-score   support\n",
      "\n",
      "           0       0.89      1.00      0.94         8\n",
      "           1       1.00      0.90      0.95        10\n",
      "\n",
      "    accuracy                           0.94        18\n",
      "   macro avg       0.94      0.95      0.94        18\n",
      "weighted avg       0.95      0.94      0.94        18\n",
      "\n"
     ]
    },
    {
     "data": {
      "image/png": "[encoded data removed]",
      "text/plain": [
       "<Figure size 576x360 with 2 Axes>"
      ]
     },
     "metadata": {},
     "output_type": "display_data"
    }
   ],
   "source": [
    "metrics_score(y_test, test_pred)"
   ]
  },
  {
   "cell_type": "code",
   "execution_count": 156,
   "id": "vYe5W8ubfkpP",
   "metadata": {
    "id": "vYe5W8ubfkpP"
   },
   "outputs": [],
   "source": [
    "# Clearing backend\n",
    "from tensorflow.keras import backend\n",
    "backend.clear_session()"
   ]
  },
  {
   "cell_type": "code",
   "execution_count": 156,
   "id": "0rm_T0aTg5d_",
   "metadata": {
    "id": "0rm_T0aTg5d_"
   },
   "outputs": [],
   "source": []
  }
 ],
 "metadata": {
  "colab": {
   "provenance": []
  },
  "kernelspec": {
   "display_name": "Python 3 (ipykernel)",
   "language": "python",
   "name": "python3"
  },
  "language_info": {
   "codemirror_mode": {
    "name": "ipython",
    "version": 3
   },
   "file_extension": ".py",
   "mimetype": "text/x-python",
   "name": "python",
   "nbconvert_exporter": "python",
   "pygments_lexer": "ipython3",
   "version": "3.9.12"
  }
 },
 "nbformat": 4,
 "nbformat_minor": 5
}
